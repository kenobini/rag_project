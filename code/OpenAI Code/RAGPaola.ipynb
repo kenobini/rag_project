{
 "cells": [
  {
   "cell_type": "markdown",
   "id": "7bd841bc-ae0d-415b-9fa6-2cea120a1a88",
   "metadata": {},
   "source": [
    "![logo_ironhack_blue 7](https://user-images.githubusercontent.com/23629340/40541063-a07a0a8a-601a-11e8-91b5-2f13e4e6b441.png)"
   ]
  },
  {
   "cell_type": "markdown",
   "id": "65636319-73d8-4d54-80a3-cdc6b96ad1a6",
   "metadata": {},
   "source": [
    "# Retrieval Augmented Generation (RAG) Challenge"
   ]
  },
  {
   "cell_type": "markdown",
   "id": "15facc5c-44bc-4010-8b41-950f8f1dcc45",
   "metadata": {},
   "source": [
    "## Introduction\n",
    "---------------------------------------"
   ]
  },
  {
   "cell_type": "markdown",
   "id": "dedbf430-b309-43ca-9bc7-8b68a1dde25d",
   "metadata": {},
   "source": [
    "Retrieval Augmented Generation (RAG) is a novel approach that combines the strengths of retrieval-based and generation-based models to provide accurate and contextually relevant responses. By leveraging a vector database to retrieve relevant documents and a large language model (LLM) to generate responses, RAG can significantly enhance the capabilities of applications in various domains such as customer support, knowledge management, and content creation."
   ]
  },
  {
   "cell_type": "markdown",
   "id": "0e3688af-6adf-43ad-9062-77fd47c6fbb1",
   "metadata": {},
   "source": [
    "## Exploratory Data Analysis (EDA)"
   ]
  },
  {
   "cell_type": "markdown",
   "id": "56f4ee66-1d15-4157-9176-92b86ecb3054",
   "metadata": {},
   "source": [
    "- Analyze dataset structure, quality, and distribution.\n",
    "- Identify missing data, bias, or inconsistencies.\n",
    "- Tokenization and text length distribution analysis.\n",
    "- Visualize key patterns (word clouds, embeddings, etc.).\n"
   ]
  },
  {
   "cell_type": "markdown",
   "id": "5f23eac1-2956-4b17-abac-53189b027bf4",
   "metadata": {},
   "source": [
    "### Load and Extract Text from PDFs"
   ]
  },
  {
   "cell_type": "code",
   "execution_count": 7,
   "id": "46cfe573-07bb-4bd8-8e2f-836e35f381f7",
   "metadata": {
    "collapsed": true,
    "jupyter": {
     "outputs_hidden": true
    }
   },
   "outputs": [
    {
     "name": "stdout",
     "output_type": "stream",
     "text": [
      "Collecting PyMuPDF\n",
      "  Downloading pymupdf-1.25.2-cp39-abi3-macosx_10_9_x86_64.whl.metadata (3.4 kB)\n",
      "Downloading pymupdf-1.25.2-cp39-abi3-macosx_10_9_x86_64.whl (19.3 MB)\n",
      "\u001b[2K   \u001b[90m━━━━━━━━━━━━━━━━━━━━━━━━━━━━━━━━━━━━━━━━\u001b[0m \u001b[32m19.3/19.3 MB\u001b[0m \u001b[31m16.0 MB/s\u001b[0m eta \u001b[36m0:00:00\u001b[0m00:01\u001b[0m00:01\u001b[0m\n",
      "\u001b[?25hInstalling collected packages: PyMuPDF\n",
      "Successfully installed PyMuPDF-1.25.2\n",
      "Note: you may need to restart the kernel to use updated packages.\n"
     ]
    }
   ],
   "source": [
    "#!pip install PyMuPDF"
   ]
  },
  {
   "cell_type": "code",
   "execution_count": 5,
   "id": "8061dc54-221f-47d0-8d36-f8757313caad",
   "metadata": {},
   "outputs": [
    {
     "name": "stdout",
     "output_type": "stream",
     "text": [
      "Extracted text from: DGSD_EURLEX.pdf\n",
      "Extracted text from: BRRD_EURLEX.pdf\n",
      "Extracted text from: PSD_EURLEX.pdf\n",
      "Extracted text from: IFD_EURLEX.pdf\n",
      "Extracted text from: IFR_EURLEX.pdf\n",
      "Extracted text from: AMLD_EURLEX.pdf\n",
      "Extracted text from: SecReg_EURLEX.pdf\n",
      "Extracted text from: MCD_EURLEX.pdf\n",
      "Extracted text from: WTR_EURLEX.pdf\n",
      "Extracted text from: CRR_EURLEX.pdf\n",
      "Extracted text from: CRD_EURLEX.pdf\n",
      "Extraction complete! All texts saved in /Users/paolarivera/Documents/Ironhack/Week 8/Day 3 Project /project-5-2-genai-rag-main/data/extracted_texts\n"
     ]
    }
   ],
   "source": [
    "import os\n",
    "import fitz  # PyMuPDF\n",
    "\n",
    "# Define the folder containing PDFs\n",
    "pdf_folder = pdf_folder = '/Users/paolarivera/Documents/Ironhack/Week 8/Day 3 Project /project-5-2-genai-rag-main/data/financial_laws_pdfs'\n",
    "output_folder = '/Users/paolarivera/Documents/Ironhack/Week 8/Day 3 Project /project-5-2-genai-rag-main/data/extracted_texts'\n",
    "\n",
    "# Ensure the output folder exists\n",
    "os.makedirs(output_folder, exist_ok=True)\n",
    "\n",
    "# Function to extract text from a PDF\n",
    "def extract_text_from_pdf(pdf_path):\n",
    "    text = \"\"\n",
    "    doc = fitz.open(pdf_path)\n",
    "    for page in doc:\n",
    "        text += page.get_text(\"text\") + \"\\n\"\n",
    "    return text\n",
    "\n",
    "# Process each PDF\n",
    "for pdf_file in os.listdir(pdf_folder):\n",
    "    if pdf_file.endswith(\".pdf\"):\n",
    "        pdf_path = os.path.join(pdf_folder, pdf_file)\n",
    "        extracted_text = extract_text_from_pdf(pdf_path)\n",
    "\n",
    "        # Save the extracted text to a .txt file\n",
    "        text_filename = os.path.splitext(pdf_file)[0] + \".txt\"\n",
    "        with open(os.path.join(output_folder, text_filename), \"w\", encoding=\"utf-8\") as text_file:\n",
    "            text_file.write(extracted_text)\n",
    "\n",
    "        print(f\"Extracted text from: {pdf_file}\")\n",
    "\n",
    "print(\"Extraction complete! All texts saved in\", output_folder)"
   ]
  },
  {
   "cell_type": "markdown",
   "id": "c2248af9-7bbf-4ac4-95c3-1baf088c67a9",
   "metadata": {},
   "source": [
    "### EDA"
   ]
  },
  {
   "cell_type": "code",
   "execution_count": 3,
   "id": "4391c8f6-28fb-43e7-92c9-6db3466007ac",
   "metadata": {},
   "outputs": [
    {
     "name": "stderr",
     "output_type": "stream",
     "text": [
      "[nltk_data] Downloading package punkt to\n",
      "[nltk_data]     /Users/paolarivera/nltk_data...\n",
      "[nltk_data]   Package punkt is already up-to-date!\n"
     ]
    },
    {
     "data": {
      "text/plain": [
       "True"
      ]
     },
     "execution_count": 3,
     "metadata": {},
     "output_type": "execute_result"
    }
   ],
   "source": [
    "import os\n",
    "import re\n",
    "import glob\n",
    "import matplotlib.pyplot as plt\n",
    "import seaborn as sns\n",
    "from collections import Counter\n",
    "import nltk\n",
    "from nltk.tokenize import word_tokenize, sent_tokenize\n",
    "from nltk.util import ngrams\n",
    "nltk.download('punkt')"
   ]
  },
  {
   "cell_type": "code",
   "execution_count": 7,
   "id": "b59ac2ac-47d5-4760-b928-3f8d421c8f92",
   "metadata": {},
   "outputs": [
    {
     "data": {
      "text/html": [
       "<div>\n",
       "<style scoped>\n",
       "    .dataframe tbody tr th:only-of-type {\n",
       "        vertical-align: middle;\n",
       "    }\n",
       "\n",
       "    .dataframe tbody tr th {\n",
       "        vertical-align: top;\n",
       "    }\n",
       "\n",
       "    .dataframe thead th {\n",
       "        text-align: right;\n",
       "    }\n",
       "</style>\n",
       "<table border=\"1\" class=\"dataframe\">\n",
       "  <thead>\n",
       "    <tr style=\"text-align: right;\">\n",
       "      <th></th>\n",
       "      <th>filename</th>\n",
       "      <th>content</th>\n",
       "    </tr>\n",
       "  </thead>\n",
       "  <tbody>\n",
       "    <tr>\n",
       "      <th>0</th>\n",
       "      <td>IFD_EURLEX.txt</td>\n",
       "      <td>DIRECTIVES \\nDIRECTIVE (EU) 2019/2034 OF THE E...</td>\n",
       "    </tr>\n",
       "    <tr>\n",
       "      <th>1</th>\n",
       "      <td>IFR_EURLEX.txt</td>\n",
       "      <td>I \\n(Legislative acts) \\nREGULATIONS \\nREGULAT...</td>\n",
       "    </tr>\n",
       "    <tr>\n",
       "      <th>2</th>\n",
       "      <td>DGSD_EURLEX.txt</td>\n",
       "      <td>DIRECTIVES \\nDIRECTIVE 2014/49/EU OF THE EUROP...</td>\n",
       "    </tr>\n",
       "    <tr>\n",
       "      <th>3</th>\n",
       "      <td>BRRD_EURLEX.txt</td>\n",
       "      <td>DIRECTIVE 2014/59/EU OF THE EUROPEAN PARLIAMEN...</td>\n",
       "    </tr>\n",
       "    <tr>\n",
       "      <th>4</th>\n",
       "      <td>PSD_EURLEX.txt</td>\n",
       "      <td>DIRECTIVES \\nDIRECTIVE (EU) 2015/2366 OF THE E...</td>\n",
       "    </tr>\n",
       "  </tbody>\n",
       "</table>\n",
       "</div>"
      ],
      "text/plain": [
       "          filename                                            content\n",
       "0   IFD_EURLEX.txt  DIRECTIVES \\nDIRECTIVE (EU) 2019/2034 OF THE E...\n",
       "1   IFR_EURLEX.txt  I \\n(Legislative acts) \\nREGULATIONS \\nREGULAT...\n",
       "2  DGSD_EURLEX.txt  DIRECTIVES \\nDIRECTIVE 2014/49/EU OF THE EUROP...\n",
       "3  BRRD_EURLEX.txt  DIRECTIVE 2014/59/EU OF THE EUROPEAN PARLIAMEN...\n",
       "4   PSD_EURLEX.txt  DIRECTIVES \\nDIRECTIVE (EU) 2015/2366 OF THE E..."
      ]
     },
     "execution_count": 7,
     "metadata": {},
     "output_type": "execute_result"
    }
   ],
   "source": [
    "import pandas as pd\n",
    "\n",
    "# Path to extracted text files\n",
    "data_path = \"/Users/paolarivera/Documents/Ironhack/Week 8/Day 3 Project /project-5-2-genai-rag-main/data/extracted_texts\"\n",
    "\n",
    "# Read all extracted text files\n",
    "documents = []\n",
    "for file in os.listdir(data_path):\n",
    "    if file.endswith(\".txt\"):\n",
    "        with open(os.path.join(data_path, file), \"r\", encoding=\"utf-8\") as f:\n",
    "            text = f.read()\n",
    "            documents.append({\"filename\": file, \"content\": text})\n",
    "\n",
    "df = pd.DataFrame(documents)\n",
    "df.head()"
   ]
  },
  {
   "cell_type": "code",
   "execution_count": 9,
   "id": "3267e952-d089-4a57-8e6e-72bf6c4f98d2",
   "metadata": {},
   "outputs": [
    {
     "name": "stdout",
     "output_type": "stream",
     "text": [
      "--- IFD_EURLEX.txt ---\n",
      "DIRECTIVES \n",
      "DIRECTIVE (EU) 2019/2034 OF THE EUROPEAN PARLIAMENT AND OF THE COUNCIL \n",
      "of 27 November 2019 \n",
      "on the prudential supervision of investment firms and amending Directives 2002/87/EC, \n",
      "2009/65/EC, 2011/61/EU, 2013/36/EU, 2014/59/EU and 2014/65/EU \n",
      "(Text with EEA relevance) \n",
      "THE EUROPEAN PARLIAMENT AND THE COUNCIL OF THE EUROPEAN UNION, \n",
      "Having regard to the Treaty on the Functioning of the European Union, and in particular Article 53(1) thereof, \n",
      "Having regard to the proposal from the European Commission, \n",
      "After transmission of the draft legislative act to the national parliaments, \n",
      "Having regard to the opinion of the European Central Bank (1), \n",
      "Having regard to the opinion of the European Economic and Social Committee (2), \n",
      "Acting in accordance with the ordinary legislative procedure (3), \n",
      "Whereas: \n",
      "(1) \n",
      "Robust prudential supervision is an integral part of the regulatory conditions under which financial institutions \n",
      "provide services within the Union. Investment firms are, toge\n",
      "\n",
      "================================================================================\n",
      "\n",
      "--- IFR_EURLEX.txt ---\n",
      "I \n",
      "(Legislative acts) \n",
      "REGULATIONS \n",
      "REGULATION (EU) 2019/2033 OF THE EUROPEAN PARLIAMENT AND OF THE COUNCIL \n",
      "of 27 November 2019 \n",
      "on the prudential requirements of investment firms and amending Regulations (EU) No 1093/2010, \n",
      "(EU) No 575/2013, (EU) No 600/2014 and (EU) No 806/2014 \n",
      "(Text with EEA relevance) \n",
      "THE EUROPEAN PARLIAMENT AND THE COUNCIL OF THE EUROPEAN UNION, \n",
      "Having regard to the Treaty on the Functioning of the European Union, and in particular Article 114 thereof, \n",
      "Having regard to the proposal from the European Commission, \n",
      "After transmission of the draft legislative act to the national parliaments, \n",
      "Having regard to the opinion of the European Central Bank (1), \n",
      "Having regard to the opinion of the European Economic and Social Committee (2), \n",
      "Acting in accordance with the ordinary legislative procedure (3), \n",
      "Whereas: \n",
      "(1) \n",
      "Robust prudential requirements are an integral part of the regulatory conditions under which financial institutions \n",
      "provide services within the Union\n",
      "\n",
      "================================================================================\n",
      "\n"
     ]
    }
   ],
   "source": [
    "# Path to extracted text files\n",
    "data_path = \"/Users/paolarivera/Documents/Ironhack/Week 8/Day 3 Project /project-5-2-genai-rag-main/data/extracted_texts\"\n",
    "\n",
    "# Read and inspect raw text\n",
    "sample_texts = []\n",
    "for file in os.listdir(data_path):\n",
    "    if file.endswith(\".txt\"):\n",
    "        with open(os.path.join(data_path, file), \"r\", encoding=\"utf-8\") as f:\n",
    "            text = f.read()\n",
    "            sample_texts.append((file, text[:1000]))  # Print first 1000 characters for preview\n",
    "\n",
    "# Check raw text samples\n",
    "for filename, text in sample_texts[:2]:  # Show first 2 samples\n",
    "    print(f\"--- {filename} ---\")\n",
    "    print(text)\n",
    "    print(\"\\n\" + \"=\"*80 + \"\\n\")"
   ]
  },
  {
   "cell_type": "code",
   "execution_count": 11,
   "id": "1511d032-8134-4e7b-9107-ce6c7bc704c1",
   "metadata": {},
   "outputs": [],
   "source": [
    "# Path to extracted text files\n",
    "text_folder = '/Users/paolarivera/Documents/Ironhack/Week 8/Day 3 Project /project-5-2-genai-rag-main/data/extracted_texts'  # Update with actual path\n",
    "text_files = glob.glob(os.path.join(text_folder, \"*.txt\"))\n",
    "\n",
    "# Read all text files\n",
    "documents = []\n",
    "for file in text_files:\n",
    "    with open(file, \"r\", encoding=\"utf-8\") as f:\n",
    "        documents.append(f.read())"
   ]
  },
  {
   "cell_type": "code",
   "execution_count": 13,
   "id": "89c15214-a42e-4b47-ac96-f16882b16145",
   "metadata": {},
   "outputs": [
    {
     "name": "stdout",
     "output_type": "stream",
     "text": [
      "Total number of documents: 11\n",
      "Average document length (words): 63728.90909090909\n",
      "Max document length (words): 253151\n",
      "Min document length (words): 11548\n"
     ]
    }
   ],
   "source": [
    "# Basic Stats\n",
    "doc_lengths = [len(word_tokenize(doc)) for doc in documents]\n",
    "\n",
    "print(\"Total number of documents:\", len(documents))\n",
    "print(\"Average document length (words):\", sum(doc_lengths) / len(doc_lengths))\n",
    "print(\"Max document length (words):\", max(doc_lengths))\n",
    "print(\"Min document length (words):\", min(doc_lengths))"
   ]
  },
  {
   "cell_type": "code",
   "execution_count": 15,
   "id": "954ee965-5f40-461f-b3a6-affbb9749906",
   "metadata": {},
   "outputs": [
    {
     "data": {
      "image/png": "[encoded data removed]",
      "text/plain": [
       "<Figure size 1000x500 with 1 Axes>"
      ]
     },
     "metadata": {},
     "output_type": "display_data"
    }
   ],
   "source": [
    "# Plot document length distribution\n",
    "plt.figure(figsize=(10,5))\n",
    "sns.histplot(doc_lengths, bins=10, kde=True)\n",
    "plt.xlabel(\"Number of Words\")\n",
    "plt.ylabel(\"Number of Documents\")\n",
    "plt.title(\"Distribution of Document Lengths\")\n",
    "plt.show()"
   ]
  },
  {
   "cell_type": "code",
   "execution_count": 17,
   "id": "b40ce740-cb39-4792-a631-110926c08b81",
   "metadata": {},
   "outputs": [],
   "source": [
    "# Word Frequency Analysis\n",
    "all_text = \" \".join(documents)\n",
    "tokens = word_tokenize(all_text)\n",
    "token_counts = Counter(tokens)"
   ]
  },
  {
   "cell_type": "code",
   "execution_count": 18,
   "id": "4561a336-971d-4942-9ff6-9e9ea8fcd03f",
   "metadata": {},
   "outputs": [
    {
     "name": "stdout",
     "output_type": "stream",
     "text": [
      "Top 10 Bigrams: [(('of', 'the'), 10686), ((';', '('), 4324), (('to', 'the'), 3694), (('in', 'the'), 2892), ((',', 'the'), 2577), (('1', ')'), 2576), (('(', '1'), 2497), (('referred', 'to'), 2282), (('to', 'in'), 2224), ((')', 'of'), 2218)]\n",
      "Top 10 Trigrams: [(('(', '1', ')'), 2495), (('referred', 'to', 'in'), 2223), (('in', 'accordance', 'with'), 2141), (('(', 'b', ')'), 1905), (('(', 'a', ')'), 1892), (('(', 'EU', ')'), 1675), (('of', 'the', 'European'), 1664), (('Regulation', '(', 'EU'), 1380), (('EU', ')', 'No'), 1321), (('(', '2', ')'), 1269)]\n"
     ]
    }
   ],
   "source": [
    "# Most common bigrams and trigrams\n",
    "bigrams = list(ngrams(tokens, 2))\n",
    "trigrams = list(ngrams(tokens, 3))\n",
    "\n",
    "bigram_counts = Counter(bigrams).most_common(10)\n",
    "trigram_counts = Counter(trigrams).most_common(10)\n",
    "\n",
    "print(\"Top 10 Bigrams:\", bigram_counts)\n",
    "print(\"Top 10 Trigrams:\", trigram_counts)"
   ]
  },
  {
   "cell_type": "markdown",
   "id": "5164b9bf-388e-4d5f-a938-bf2331ae076a",
   "metadata": {},
   "source": [
    "### Text Preprocessing\n",
    "Since these documents are from the Official Journal of the European Union, they contain references, footnotes, legal symbols, and formatting artifacts that we should clean up."
   ]
  },
  {
   "cell_type": "code",
   "execution_count": 22,
   "id": "78f91837-55d2-4e4b-a90b-170d90160787",
   "metadata": {},
   "outputs": [],
   "source": [
    "import string\n",
    "\n",
    "def clean_text(text):\n",
    "    \"\"\"\n",
    "    We clean the extracted text by:\n",
    "    - Removing extra newlines and spaces\n",
    "    - Removing page numbers and unwanted headers\n",
    "    - Removing special characters\n",
    "    - Normalizing unicode\n",
    "    \"\"\"\n",
    "    # Remove extra spaces and newlines\n",
    "    text = re.sub(r'\\n+', '\\n', text)  # Remove multiple newlines\n",
    "    text = re.sub(r'\\s+', ' ', text)  # Collapse multiple spaces\n",
    "    \n",
    "    # Remove page numbers and headers (example: \"Page 12 of 50\")\n",
    "    text = re.sub(r'Page \\d+ of \\d+', '', text, flags=re.IGNORECASE)\n",
    "    \n",
    "    # Remove special characters (except basic punctuation)\n",
    "    text = text.translate(str.maketrans('', '', string.punctuation))\n",
    "\n",
    "    # Normalize unicode (e.g., remove weird characters)\n",
    "    text = text.encode(\"utf-8\", \"ignore\").decode()\n",
    "\n",
    "    return text.strip()\n",
    "\n",
    "# Apply cleaning to all texts\n",
    "cleaned_documents = []\n",
    "for file in os.listdir(data_path):\n",
    "    if file.endswith(\".txt\"):\n",
    "        with open(os.path.join(data_path, file), \"r\", encoding=\"utf-8\") as f:\n",
    "            raw_text = f.read()\n",
    "            cleaned_text = clean_text(raw_text)\n",
    "            cleaned_documents.append({\"filename\": file, \"content\": cleaned_text})"
   ]
  },
  {
   "cell_type": "code",
   "execution_count": 24,
   "id": "f5bffd22-6da1-4490-92af-92b320ccaa7e",
   "metadata": {},
   "outputs": [],
   "source": [
    "import re\n",
    "import string\n",
    "import unicodedata\n",
    "\n",
    "def advanced_clean_text(text):\n",
    "    \"\"\"\n",
    "    We can clean legal text further by:\n",
    "    - Removing unwanted legal references (e.g., [Article 12], [Section IV])\n",
    "    - Removing tables, footnotes, and bibliography sections\n",
    "    - Handling case normalization\n",
    "    - Removing special characters and boilerplate text\n",
    "    \"\"\"\n",
    "\n",
    "    # Normalize Unicode characters\n",
    "    text = unicodedata.normalize(\"NFKD\", text)\n",
    "\n",
    "    # Remove references like [Article 12] or [Section IV]\n",
    "    text = re.sub(r\"\\[.*?\\]\", \"\", text)\n",
    "\n",
    "    # Remove page numbers and headers (e.g., \"Page 12 of 50\")\n",
    "    text = re.sub(r\"Page \\d+ of \\d+\", \"\", text, flags=re.IGNORECASE)\n",
    "\n",
    "    # Remove table-like structures (rows of numbers, e.g., \"1.2 | 3.4 | 5.6\")\n",
    "    text = re.sub(r\"(\\d+(\\.\\d+)?\\s*\\|\\s*)+\\d+(\\.\\d+)?\", \"\", text)\n",
    "\n",
    "    # Remove common legal boilerplate text (add more patterns as needed)\n",
    "    boilerplate_patterns = [\n",
    "        r\"This document is for informational purposes only.*\",  # Common disclaimer\n",
    "        r\"All rights reserved.*\",\n",
    "        r\"Reproduction or distribution is prohibited.*\"\n",
    "    ]\n",
    "    for pattern in boilerplate_patterns:\n",
    "        text = re.sub(pattern, \"\", text, flags=re.IGNORECASE)\n",
    "\n",
    "    # Remove footnotes (assuming they start with numbers)\n",
    "    text = re.sub(r\"\\d+\\.\\s.*\", \"\", text)\n",
    "\n",
    "    # Remove legal symbols and abbreviations (e.g., \"§\", \"Art.\", \"No.\")\n",
    "    text = re.sub(r\"§|\\bArt\\.|\\bNo\\.\", \"\", text)\n",
    "\n",
    "    # Remove excessive whitespace\n",
    "    text = re.sub(r\"\\s+\", \" \", text).strip()\n",
    "\n",
    "    return text"
   ]
  },
  {
   "cell_type": "code",
   "execution_count": 26,
   "id": "3c6d8a18-354e-4af2-9265-cba41ffaf1e1",
   "metadata": {},
   "outputs": [],
   "source": [
    "# Apply advanced cleaning\n",
    "cleaned_documents = []\n",
    "for file in os.listdir(data_path):\n",
    "    if file.endswith(\".txt\"):\n",
    "        with open(os.path.join(data_path, file), \"r\", encoding=\"utf-8\") as f:\n",
    "            raw_text = f.read()\n",
    "            cleaned_text = advanced_clean_text(raw_text)\n",
    "            cleaned_documents.append({\"filename\": file, \"content\": cleaned_text})\n"
   ]
  },
  {
   "cell_type": "code",
   "execution_count": 32,
   "id": "b2ac2e19-9007-495f-91c1-193a3faa28c8",
   "metadata": {},
   "outputs": [
    {
     "name": "stdout",
     "output_type": "stream",
     "text": [
      "📄 File: IFR_EURLEX.txt\n",
      "\n",
      "I (Legislative acts) REGULATIONS REGULATION (EU) 2019/2033 OF THE EUROPEAN PARLIAMENT AND OF THE COUNCIL of 27 November 2019 on the prudential requirements of investment firms and amending Regulations (EU) No 1093/2010, (EU) No 575/2013, (EU) No 600/2014 and (EU) No 806/2014 (Text with EEA relevance) THE EUROPEAN PARLIAMENT AND THE COUNCIL OF THE EUROPEAN UNION, Having regard to the Treaty on the Functioning of the European Union, and in particular Article 114 thereof, Having regard to the proposal from the European Commission, After transmission of the draft legislative act to the national parliaments, Having regard to the opinion of the European Central Bank (1), Having regard to the opinion of the European Economic and Social Committee (2), Acting in accordance with the ordinary legislative procedure (3), Whereas: (1) Robust prudential requirements are an integral part of the regulatory conditions under which financial institutions provide services within the Union. Investment firms\n"
     ]
    }
   ],
   "source": [
    "import random\n",
    "\n",
    "# Select a random sample\n",
    "sample_doc = random.choice(cleaned_documents)\n",
    "print(f\"📄 File: {sample_doc['filename']}\\n\")\n",
    "print(sample_doc[\"content\"][:1000])  # Show first 1000 characters\n"
   ]
  },
  {
   "cell_type": "code",
   "execution_count": 34,
   "id": "690d914c-bf25-4c53-b82f-f9e1323c231e",
   "metadata": {},
   "outputs": [
    {
     "name": "stdout",
     "output_type": "stream",
     "text": [
      " Cleaned text files saved to: /Users/paolarivera/Documents/Ironhack/Week 8/Day 3 Project/project-5-2-genai-rag-main/data/cleaned_texts\n"
     ]
    }
   ],
   "source": [
    "# Define the output directory for cleaned texts\n",
    "cleaned_texts_path = \"/Users/paolarivera/Documents/Ironhack/Week 8/Day 3 Project/project-5-2-genai-rag-main/data/cleaned_texts\"\n",
    "\n",
    "# Create the folder if it doesn't exist\n",
    "os.makedirs(cleaned_texts_path, exist_ok=True)\n",
    "\n",
    "# Loop through cleaned documents and save them as text files\n",
    "for doc in cleaned_documents:\n",
    "    filename = os.path.join(cleaned_texts_path, doc[\"filename\"])  # Keep original filename\n",
    "    with open(filename, \"w\", encoding=\"utf-8\") as f:\n",
    "        f.write(doc[\"content\"])\n",
    "\n",
    "print(f\" Cleaned text files saved to: {cleaned_texts_path}\")"
   ]
  },
  {
   "cell_type": "code",
   "execution_count": 36,
   "id": "33adf611-2964-4ad3-95b9-bcac3798f694",
   "metadata": {},
   "outputs": [
    {
     "data": {
      "text/plain": [
       "['IFD_EURLEX.txt',\n",
       " 'IFR_EURLEX.txt',\n",
       " 'DGSD_EURLEX.txt',\n",
       " 'BRRD_EURLEX.txt',\n",
       " 'PSD_EURLEX.txt',\n",
       " 'WTR_EURLEX.txt',\n",
       " 'CRR_EURLEX.txt',\n",
       " 'CRD_EURLEX.txt',\n",
       " 'AMLD_EURLEX.txt',\n",
       " 'SecReg_EURLEX.txt',\n",
       " 'MCD_EURLEX.txt']"
      ]
     },
     "execution_count": 36,
     "metadata": {},
     "output_type": "execute_result"
    }
   ],
   "source": [
    "os.listdir(cleaned_texts_path)"
   ]
  },
  {
   "cell_type": "code",
   "execution_count": 30,
   "id": "e2f1d43f-4db4-4918-a323-6edbbec82800",
   "metadata": {},
   "outputs": [
    {
     "ename": "KeyError",
     "evalue": "\"['num_words'] not in index\"",
     "output_type": "error",
     "traceback": [
      "\u001b[0;31m---------------------------------------------------------------------------\u001b[0m",
      "\u001b[0;31mKeyError\u001b[0m                                  Traceback (most recent call last)",
      "Cell \u001b[0;32mIn[30], line 5\u001b[0m\n\u001b[1;32m      2\u001b[0m df_clean[\u001b[38;5;124m\"\u001b[39m\u001b[38;5;124mnum_words\u001b[39m\u001b[38;5;124m\"\u001b[39m] \u001b[38;5;241m=\u001b[39m df_clean[\u001b[38;5;124m\"\u001b[39m\u001b[38;5;124mcontent\u001b[39m\u001b[38;5;124m\"\u001b[39m]\u001b[38;5;241m.\u001b[39mapply(\u001b[38;5;28;01mlambda\u001b[39;00m x: \u001b[38;5;28mlen\u001b[39m(x\u001b[38;5;241m.\u001b[39msplit()))\n\u001b[1;32m      4\u001b[0m \u001b[38;5;66;03m# Compare before & after\u001b[39;00m\n\u001b[0;32m----> 5\u001b[0m df_comparison \u001b[38;5;241m=\u001b[39m pd\u001b[38;5;241m.\u001b[39mmerge(df[[\u001b[38;5;124m\"\u001b[39m\u001b[38;5;124mfilename\u001b[39m\u001b[38;5;124m\"\u001b[39m, \u001b[38;5;124m\"\u001b[39m\u001b[38;5;124mnum_words\u001b[39m\u001b[38;5;124m\"\u001b[39m]], df_clean, on\u001b[38;5;241m=\u001b[39m\u001b[38;5;124m\"\u001b[39m\u001b[38;5;124mfilename\u001b[39m\u001b[38;5;124m\"\u001b[39m, suffixes\u001b[38;5;241m=\u001b[39m(\u001b[38;5;124m\"\u001b[39m\u001b[38;5;124m_before\u001b[39m\u001b[38;5;124m\"\u001b[39m, \u001b[38;5;124m\"\u001b[39m\u001b[38;5;124m_after\u001b[39m\u001b[38;5;124m\"\u001b[39m))\n\u001b[1;32m      6\u001b[0m \u001b[38;5;28mprint\u001b[39m(df_comparison)\n",
      "File \u001b[0;32m/opt/anaconda3/lib/python3.12/site-packages/pandas/core/frame.py:4108\u001b[0m, in \u001b[0;36mDataFrame.__getitem__\u001b[0;34m(self, key)\u001b[0m\n\u001b[1;32m   4106\u001b[0m     \u001b[38;5;28;01mif\u001b[39;00m is_iterator(key):\n\u001b[1;32m   4107\u001b[0m         key \u001b[38;5;241m=\u001b[39m \u001b[38;5;28mlist\u001b[39m(key)\n\u001b[0;32m-> 4108\u001b[0m     indexer \u001b[38;5;241m=\u001b[39m \u001b[38;5;28mself\u001b[39m\u001b[38;5;241m.\u001b[39mcolumns\u001b[38;5;241m.\u001b[39m_get_indexer_strict(key, \u001b[38;5;124m\"\u001b[39m\u001b[38;5;124mcolumns\u001b[39m\u001b[38;5;124m\"\u001b[39m)[\u001b[38;5;241m1\u001b[39m]\n\u001b[1;32m   4110\u001b[0m \u001b[38;5;66;03m# take() does not accept boolean indexers\u001b[39;00m\n\u001b[1;32m   4111\u001b[0m \u001b[38;5;28;01mif\u001b[39;00m \u001b[38;5;28mgetattr\u001b[39m(indexer, \u001b[38;5;124m\"\u001b[39m\u001b[38;5;124mdtype\u001b[39m\u001b[38;5;124m\"\u001b[39m, \u001b[38;5;28;01mNone\u001b[39;00m) \u001b[38;5;241m==\u001b[39m \u001b[38;5;28mbool\u001b[39m:\n",
      "File \u001b[0;32m/opt/anaconda3/lib/python3.12/site-packages/pandas/core/indexes/base.py:6200\u001b[0m, in \u001b[0;36mIndex._get_indexer_strict\u001b[0;34m(self, key, axis_name)\u001b[0m\n\u001b[1;32m   6197\u001b[0m \u001b[38;5;28;01melse\u001b[39;00m:\n\u001b[1;32m   6198\u001b[0m     keyarr, indexer, new_indexer \u001b[38;5;241m=\u001b[39m \u001b[38;5;28mself\u001b[39m\u001b[38;5;241m.\u001b[39m_reindex_non_unique(keyarr)\n\u001b[0;32m-> 6200\u001b[0m \u001b[38;5;28mself\u001b[39m\u001b[38;5;241m.\u001b[39m_raise_if_missing(keyarr, indexer, axis_name)\n\u001b[1;32m   6202\u001b[0m keyarr \u001b[38;5;241m=\u001b[39m \u001b[38;5;28mself\u001b[39m\u001b[38;5;241m.\u001b[39mtake(indexer)\n\u001b[1;32m   6203\u001b[0m \u001b[38;5;28;01mif\u001b[39;00m \u001b[38;5;28misinstance\u001b[39m(key, Index):\n\u001b[1;32m   6204\u001b[0m     \u001b[38;5;66;03m# GH 42790 - Preserve name from an Index\u001b[39;00m\n",
      "File \u001b[0;32m/opt/anaconda3/lib/python3.12/site-packages/pandas/core/indexes/base.py:6252\u001b[0m, in \u001b[0;36mIndex._raise_if_missing\u001b[0;34m(self, key, indexer, axis_name)\u001b[0m\n\u001b[1;32m   6249\u001b[0m     \u001b[38;5;28;01mraise\u001b[39;00m \u001b[38;5;167;01mKeyError\u001b[39;00m(\u001b[38;5;124mf\u001b[39m\u001b[38;5;124m\"\u001b[39m\u001b[38;5;124mNone of [\u001b[39m\u001b[38;5;132;01m{\u001b[39;00mkey\u001b[38;5;132;01m}\u001b[39;00m\u001b[38;5;124m] are in the [\u001b[39m\u001b[38;5;132;01m{\u001b[39;00maxis_name\u001b[38;5;132;01m}\u001b[39;00m\u001b[38;5;124m]\u001b[39m\u001b[38;5;124m\"\u001b[39m)\n\u001b[1;32m   6251\u001b[0m not_found \u001b[38;5;241m=\u001b[39m \u001b[38;5;28mlist\u001b[39m(ensure_index(key)[missing_mask\u001b[38;5;241m.\u001b[39mnonzero()[\u001b[38;5;241m0\u001b[39m]]\u001b[38;5;241m.\u001b[39munique())\n\u001b[0;32m-> 6252\u001b[0m \u001b[38;5;28;01mraise\u001b[39;00m \u001b[38;5;167;01mKeyError\u001b[39;00m(\u001b[38;5;124mf\u001b[39m\u001b[38;5;124m\"\u001b[39m\u001b[38;5;132;01m{\u001b[39;00mnot_found\u001b[38;5;132;01m}\u001b[39;00m\u001b[38;5;124m not in index\u001b[39m\u001b[38;5;124m\"\u001b[39m)\n",
      "\u001b[0;31mKeyError\u001b[0m: \"['num_words'] not in index\""
     ]
    }
   ],
   "source": [
    "df_clean = pd.DataFrame(cleaned_documents)\n",
    "df_clean[\"num_words\"] = df_clean[\"content\"].apply(lambda x: len(x.split()))\n",
    "\n",
    "# Compare before & after\n",
    "df_comparison = pd.merge(df[[\"filename\", \"num_words\"]], df_clean, on=\"filename\", suffixes=(\"_before\", \"_after\"))\n",
    "print(df_comparison)"
   ]
  },
  {
   "cell_type": "markdown",
   "id": "28e867aa-490e-4eb2-98e1-4f6d9cb8d06d",
   "metadata": {},
   "source": [
    "### Basic EDA After Cleaning"
   ]
  },
  {
   "cell_type": "code",
   "execution_count": 65,
   "id": "f2cdb320-9933-4138-9c1c-aa2423aa9813",
   "metadata": {},
   "outputs": [
    {
     "name": "stdout",
     "output_type": "stream",
     "text": [
      "           num_words\n",
      "count      11.000000\n",
      "mean    53755.545455\n",
      "std     58782.187294\n",
      "min      8981.000000\n",
      "25%     24457.500000\n",
      "50%     34860.000000\n",
      "75%     56668.500000\n",
      "max    217635.000000\n"
     ]
    },
    {
     "data": {
      "image/png": "[encoded data removed]",
      "text/plain": [
       "<Figure size 800x500 with 1 Axes>"
      ]
     },
     "metadata": {},
     "output_type": "display_data"
    }
   ],
   "source": [
    "import pandas as pd\n",
    "import matplotlib.pyplot as plt\n",
    "import seaborn as sns\n",
    "\n",
    "# Convert to DataFrame\n",
    "df = pd.DataFrame(cleaned_documents)\n",
    "df[\"num_words\"] = df[\"content\"].apply(lambda x: len(x.split()))\n",
    "\n",
    "# Summary statistics\n",
    "print(df.describe())\n",
    "\n",
    "# Plot distribution of document lengths\n",
    "plt.figure(figsize=(8,5))\n",
    "sns.histplot(df[\"num_words\"], bins=20, kde=True)\n",
    "plt.title(\"Distribution of Document Lengths After Cleaning\")\n",
    "plt.xlabel(\"Word Count\")\n",
    "plt.ylabel(\"Frequency\")\n",
    "plt.show()"
   ]
  },
  {
   "cell_type": "markdown",
   "id": "65f018ce-e663-4a84-8ad0-72d9c072fed0",
   "metadata": {},
   "source": [
    "## Embedding and Storing Chunks"
   ]
  },
  {
   "cell_type": "markdown",
   "id": "97350c66-eb54-43ca-8159-082be28c40e6",
   "metadata": {},
   "source": [
    "#### 3.1 Chunk the Text"
   ]
  },
  {
   "cell_type": "code",
   "execution_count": 36,
   "id": "1fef48df-a3e7-429a-bb54-9c80fa69c33c",
   "metadata": {
    "collapsed": true,
    "jupyter": {
     "outputs_hidden": true
    }
   },
   "outputs": [
    {
     "name": "stdout",
     "output_type": "stream",
     "text": [
      "Collecting langchain-community\n",
      "  Downloading langchain_community-0.3.16-py3-none-any.whl.metadata (2.9 kB)\n",
      "Requirement already satisfied: PyYAML>=5.3 in /opt/anaconda3/lib/python3.12/site-packages (from langchain-community) (6.0.1)\n",
      "Requirement already satisfied: SQLAlchemy<3,>=1.4 in /opt/anaconda3/lib/python3.12/site-packages (from langchain-community) (2.0.34)\n",
      "Requirement already satisfied: aiohttp<4.0.0,>=3.8.3 in /opt/anaconda3/lib/python3.12/site-packages (from langchain-community) (3.10.5)\n",
      "Collecting dataclasses-json<0.7,>=0.5.7 (from langchain-community)\n",
      "  Downloading dataclasses_json-0.6.7-py3-none-any.whl.metadata (25 kB)\n",
      "Collecting httpx-sse<0.5.0,>=0.4.0 (from langchain-community)\n",
      "  Downloading httpx_sse-0.4.0-py3-none-any.whl.metadata (9.0 kB)\n",
      "Collecting langchain<0.4.0,>=0.3.16 (from langchain-community)\n",
      "  Downloading langchain-0.3.17-py3-none-any.whl.metadata (7.1 kB)\n",
      "Collecting langchain-core<0.4.0,>=0.3.32 (from langchain-community)\n",
      "  Downloading langchain_core-0.3.33-py3-none-any.whl.metadata (6.3 kB)\n",
      "Collecting langsmith<0.4,>=0.1.125 (from langchain-community)\n",
      "  Downloading langsmith-0.3.6-py3-none-any.whl.metadata (14 kB)\n",
      "Requirement already satisfied: numpy<3,>=1.26.2 in /opt/anaconda3/lib/python3.12/site-packages (from langchain-community) (1.26.4)\n",
      "Requirement already satisfied: pydantic-settings<3.0.0,>=2.4.0 in /opt/anaconda3/lib/python3.12/site-packages (from langchain-community) (2.6.1)\n",
      "Requirement already satisfied: requests<3,>=2 in /opt/anaconda3/lib/python3.12/site-packages (from langchain-community) (2.32.3)\n",
      "Requirement already satisfied: tenacity!=8.4.0,<10,>=8.1.0 in /opt/anaconda3/lib/python3.12/site-packages (from langchain-community) (8.2.3)\n",
      "Requirement already satisfied: aiohappyeyeballs>=2.3.0 in /opt/anaconda3/lib/python3.12/site-packages (from aiohttp<4.0.0,>=3.8.3->langchain-community) (2.4.0)\n",
      "Requirement already satisfied: aiosignal>=1.1.2 in /opt/anaconda3/lib/python3.12/site-packages (from aiohttp<4.0.0,>=3.8.3->langchain-community) (1.2.0)\n",
      "Requirement already satisfied: attrs>=17.3.0 in /opt/anaconda3/lib/python3.12/site-packages (from aiohttp<4.0.0,>=3.8.3->langchain-community) (23.1.0)\n",
      "Requirement already satisfied: frozenlist>=1.1.1 in /opt/anaconda3/lib/python3.12/site-packages (from aiohttp<4.0.0,>=3.8.3->langchain-community) (1.4.0)\n",
      "Requirement already satisfied: multidict<7.0,>=4.5 in /opt/anaconda3/lib/python3.12/site-packages (from aiohttp<4.0.0,>=3.8.3->langchain-community) (6.0.4)\n",
      "Requirement already satisfied: yarl<2.0,>=1.0 in /opt/anaconda3/lib/python3.12/site-packages (from aiohttp<4.0.0,>=3.8.3->langchain-community) (1.11.0)\n",
      "Collecting marshmallow<4.0.0,>=3.18.0 (from dataclasses-json<0.7,>=0.5.7->langchain-community)\n",
      "  Downloading marshmallow-3.26.1-py3-none-any.whl.metadata (7.3 kB)\n",
      "Collecting typing-inspect<1,>=0.4.0 (from dataclasses-json<0.7,>=0.5.7->langchain-community)\n",
      "  Downloading typing_inspect-0.9.0-py3-none-any.whl.metadata (1.5 kB)\n",
      "Collecting langchain-text-splitters<0.4.0,>=0.3.3 (from langchain<0.4.0,>=0.3.16->langchain-community)\n",
      "  Downloading langchain_text_splitters-0.3.5-py3-none-any.whl.metadata (2.3 kB)\n",
      "Requirement already satisfied: pydantic<3.0.0,>=2.7.4 in /opt/anaconda3/lib/python3.12/site-packages (from langchain<0.4.0,>=0.3.16->langchain-community) (2.8.2)\n",
      "Requirement already satisfied: jsonpatch<2.0,>=1.33 in /opt/anaconda3/lib/python3.12/site-packages (from langchain-core<0.4.0,>=0.3.32->langchain-community) (1.33)\n",
      "Requirement already satisfied: packaging<25,>=23.2 in /opt/anaconda3/lib/python3.12/site-packages (from langchain-core<0.4.0,>=0.3.32->langchain-community) (24.1)\n",
      "Requirement already satisfied: typing-extensions>=4.7 in /opt/anaconda3/lib/python3.12/site-packages (from langchain-core<0.4.0,>=0.3.32->langchain-community) (4.11.0)\n",
      "Requirement already satisfied: httpx<1,>=0.23.0 in /opt/anaconda3/lib/python3.12/site-packages (from langsmith<0.4,>=0.1.125->langchain-community) (0.27.0)\n",
      "Collecting orjson<4.0.0,>=3.9.14 (from langsmith<0.4,>=0.1.125->langchain-community)\n",
      "  Downloading orjson-3.10.15-cp312-cp312-macosx_10_15_x86_64.macosx_11_0_arm64.macosx_10_15_universal2.whl.metadata (41 kB)\n",
      "Requirement already satisfied: requests-toolbelt<2.0.0,>=1.0.0 in /opt/anaconda3/lib/python3.12/site-packages (from langsmith<0.4,>=0.1.125->langchain-community) (1.0.0)\n",
      "Requirement already satisfied: zstandard<0.24.0,>=0.23.0 in /opt/anaconda3/lib/python3.12/site-packages (from langsmith<0.4,>=0.1.125->langchain-community) (0.23.0)\n",
      "Requirement already satisfied: python-dotenv>=0.21.0 in /opt/anaconda3/lib/python3.12/site-packages (from pydantic-settings<3.0.0,>=2.4.0->langchain-community) (0.21.0)\n",
      "Requirement already satisfied: charset-normalizer<4,>=2 in /opt/anaconda3/lib/python3.12/site-packages (from requests<3,>=2->langchain-community) (3.3.2)\n",
      "Requirement already satisfied: idna<4,>=2.5 in /opt/anaconda3/lib/python3.12/site-packages (from requests<3,>=2->langchain-community) (3.7)\n",
      "Requirement already satisfied: urllib3<3,>=1.21.1 in /opt/anaconda3/lib/python3.12/site-packages (from requests<3,>=2->langchain-community) (2.2.3)\n",
      "Requirement already satisfied: certifi>=2017.4.17 in /opt/anaconda3/lib/python3.12/site-packages (from requests<3,>=2->langchain-community) (2024.12.14)\n",
      "Requirement already satisfied: greenlet!=0.4.17 in /opt/anaconda3/lib/python3.12/site-packages (from SQLAlchemy<3,>=1.4->langchain-community) (3.0.1)\n",
      "Requirement already satisfied: anyio in /opt/anaconda3/lib/python3.12/site-packages (from httpx<1,>=0.23.0->langsmith<0.4,>=0.1.125->langchain-community) (4.2.0)\n",
      "Requirement already satisfied: httpcore==1.* in /opt/anaconda3/lib/python3.12/site-packages (from httpx<1,>=0.23.0->langsmith<0.4,>=0.1.125->langchain-community) (1.0.2)\n",
      "Requirement already satisfied: sniffio in /opt/anaconda3/lib/python3.12/site-packages (from httpx<1,>=0.23.0->langsmith<0.4,>=0.1.125->langchain-community) (1.3.0)\n",
      "Requirement already satisfied: h11<0.15,>=0.13 in /opt/anaconda3/lib/python3.12/site-packages (from httpcore==1.*->httpx<1,>=0.23.0->langsmith<0.4,>=0.1.125->langchain-community) (0.14.0)\n",
      "Requirement already satisfied: jsonpointer>=1.9 in /opt/anaconda3/lib/python3.12/site-packages (from jsonpatch<2.0,>=1.33->langchain-core<0.4.0,>=0.3.32->langchain-community) (2.1)\n",
      "Requirement already satisfied: annotated-types>=0.4.0 in /opt/anaconda3/lib/python3.12/site-packages (from pydantic<3.0.0,>=2.7.4->langchain<0.4.0,>=0.3.16->langchain-community) (0.6.0)\n",
      "Requirement already satisfied: pydantic-core==2.20.1 in /opt/anaconda3/lib/python3.12/site-packages (from pydantic<3.0.0,>=2.7.4->langchain<0.4.0,>=0.3.16->langchain-community) (2.20.1)\n",
      "Requirement already satisfied: mypy-extensions>=0.3.0 in /opt/anaconda3/lib/python3.12/site-packages (from typing-inspect<1,>=0.4.0->dataclasses-json<0.7,>=0.5.7->langchain-community) (1.0.0)\n",
      "Downloading langchain_community-0.3.16-py3-none-any.whl (2.5 MB)\n",
      "\u001b[2K   \u001b[90m━━━━━━━━━━━━━━━━━━━━━━━━━━━━━━━━━━━━━━━━\u001b[0m \u001b[32m2.5/2.5 MB\u001b[0m \u001b[31m11.1 MB/s\u001b[0m eta \u001b[36m0:00:00\u001b[0ma \u001b[36m0:00:01\u001b[0m\n",
      "\u001b[?25hDownloading dataclasses_json-0.6.7-py3-none-any.whl (28 kB)\n",
      "Downloading httpx_sse-0.4.0-py3-none-any.whl (7.8 kB)\n",
      "Downloading langchain-0.3.17-py3-none-any.whl (1.0 MB)\n",
      "\u001b[2K   \u001b[90m━━━━━━━━━━━━━━━━━━━━━━━━━━━━━━━━━━━━━━━━\u001b[0m \u001b[32m1.0/1.0 MB\u001b[0m \u001b[31m10.5 MB/s\u001b[0m eta \u001b[36m0:00:00\u001b[0m\n",
      "\u001b[?25hDownloading langchain_core-0.3.33-py3-none-any.whl (412 kB)\n",
      "Downloading langsmith-0.3.6-py3-none-any.whl (332 kB)\n",
      "Downloading langchain_text_splitters-0.3.5-py3-none-any.whl (31 kB)\n",
      "Downloading marshmallow-3.26.1-py3-none-any.whl (50 kB)\n",
      "Downloading orjson-3.10.15-cp312-cp312-macosx_10_15_x86_64.macosx_11_0_arm64.macosx_10_15_universal2.whl (249 kB)\n",
      "Downloading typing_inspect-0.9.0-py3-none-any.whl (8.8 kB)\n",
      "Installing collected packages: typing-inspect, orjson, marshmallow, httpx-sse, dataclasses-json, langsmith, langchain-core, langchain-text-splitters, langchain, langchain-community\n",
      "Successfully installed dataclasses-json-0.6.7 httpx-sse-0.4.0 langchain-0.3.17 langchain-community-0.3.16 langchain-core-0.3.33 langchain-text-splitters-0.3.5 langsmith-0.3.6 marshmallow-3.26.1 orjson-3.10.15 typing-inspect-0.9.0\n",
      "Note: you may need to restart the kernel to use updated packages.\n"
     ]
    }
   ],
   "source": [
    "#pip install langchain-community"
   ]
  },
  {
   "cell_type": "code",
   "execution_count": 67,
   "id": "b0740d07-3781-4bf2-8b28-eafe8c43c1b5",
   "metadata": {},
   "outputs": [
    {
     "data": {
      "text/html": [
       "<div>\n",
       "<style scoped>\n",
       "    .dataframe tbody tr th:only-of-type {\n",
       "        vertical-align: middle;\n",
       "    }\n",
       "\n",
       "    .dataframe tbody tr th {\n",
       "        vertical-align: top;\n",
       "    }\n",
       "\n",
       "    .dataframe thead th {\n",
       "        text-align: right;\n",
       "    }\n",
       "</style>\n",
       "<table border=\"1\" class=\"dataframe\">\n",
       "  <thead>\n",
       "    <tr style=\"text-align: right;\">\n",
       "      <th></th>\n",
       "      <th>filename</th>\n",
       "      <th>chunk_id</th>\n",
       "      <th>content</th>\n",
       "    </tr>\n",
       "  </thead>\n",
       "  <tbody>\n",
       "    <tr>\n",
       "      <th>0</th>\n",
       "      <td>IFD_EURLEX.txt</td>\n",
       "      <td>0</td>\n",
       "      <td>DIRECTIVES DIRECTIVE (EU) 2019/2034 OF THE EUR...</td>\n",
       "    </tr>\n",
       "    <tr>\n",
       "      <th>1</th>\n",
       "      <td>IFD_EURLEX.txt</td>\n",
       "      <td>1</td>\n",
       "      <td>Union, and in particular Article 53(1) thereof...</td>\n",
       "    </tr>\n",
       "    <tr>\n",
       "      <th>2</th>\n",
       "      <td>IFD_EURLEX.txt</td>\n",
       "      <td>2</td>\n",
       "      <td>(1) Robust prudential supervision is an integr...</td>\n",
       "    </tr>\n",
       "    <tr>\n",
       "      <th>3</th>\n",
       "      <td>IFD_EURLEX.txt</td>\n",
       "      <td>3</td>\n",
       "      <td>treatment and supervision, while their authori...</td>\n",
       "    </tr>\n",
       "    <tr>\n",
       "      <th>4</th>\n",
       "      <td>IFD_EURLEX.txt</td>\n",
       "      <td>4</td>\n",
       "      <td>the Basel Committee on Banking Supervision and...</td>\n",
       "    </tr>\n",
       "  </tbody>\n",
       "</table>\n",
       "</div>"
      ],
      "text/plain": [
       "         filename  chunk_id                                            content\n",
       "0  IFD_EURLEX.txt         0  DIRECTIVES DIRECTIVE (EU) 2019/2034 OF THE EUR...\n",
       "1  IFD_EURLEX.txt         1  Union, and in particular Article 53(1) thereof...\n",
       "2  IFD_EURLEX.txt         2  (1) Robust prudential supervision is an integr...\n",
       "3  IFD_EURLEX.txt         3  treatment and supervision, while their authori...\n",
       "4  IFD_EURLEX.txt         4  the Basel Committee on Banking Supervision and..."
      ]
     },
     "execution_count": 67,
     "metadata": {},
     "output_type": "execute_result"
    }
   ],
   "source": [
    "from langchain.text_splitter import RecursiveCharacterTextSplitter\n",
    "\n",
    "# Define chunking function\n",
    "def chunk_text(text, chunk_size=500, overlap=100):\n",
    "    \"\"\"\n",
    "    Splits text into overlapping chunks.\n",
    "    \"\"\"\n",
    "    text_splitter = RecursiveCharacterTextSplitter(\n",
    "        chunk_size=chunk_size, \n",
    "        chunk_overlap=overlap\n",
    "    )\n",
    "    return text_splitter.split_text(text)\n",
    "\n",
    "# Apply chunking\n",
    "chunked_data = []\n",
    "for doc in cleaned_documents:\n",
    "    chunks = chunk_text(doc[\"content\"])\n",
    "    for i, chunk in enumerate(chunks):\n",
    "        chunked_data.append({\n",
    "            \"filename\": doc[\"filename\"],\n",
    "            \"chunk_id\": i,\n",
    "            \"content\": chunk\n",
    "        })\n",
    "\n",
    "# Convert to DataFrame for easier manipulation\n",
    "df_chunks = pd.DataFrame(chunked_data)\n",
    "\n",
    "# Show results\n",
    "df_chunks.head()"
   ]
  },
  {
   "cell_type": "markdown",
   "id": "dfb23401-5cad-4ff2-84ad-b8a50100a147",
   "metadata": {},
   "source": [
    "#### 3.2 Generate Embeddings"
   ]
  },
  {
   "cell_type": "code",
   "execution_count": null,
   "id": "034cfcd4-69ce-41a3-b302-f2dc7ed98ac7",
   "metadata": {},
   "outputs": [],
   "source": [
    "from sentence_transformers import SentenceTransformer\n",
    "\n",
    "# Load embedding model\n",
    "embedding_model = SentenceTransformer(\"all-MiniLM-L6-v2\")\n",
    "\n",
    "# Compute embeddings\n",
    "df_chunks[\"embedding\"] = df_chunks[\"content\"].apply(lambda x: embedding_model.encode(x))\n",
    "\n",
    "# Show sample embedding\n",
    "print(df_chunks.iloc[0][\"embedding\"][:5])  # Print first 5 dimensions"
   ]
  },
  {
   "cell_type": "code",
   "execution_count": null,
   "id": "11c70906-61c8-4be9-aca1-b5f6ba91c584",
   "metadata": {},
   "outputs": [],
   "source": []
  },
  {
   "cell_type": "code",
   "execution_count": null,
   "id": "dadcea7c-6ae6-4133-8c04-037f45deae4b",
   "metadata": {},
   "outputs": [],
   "source": []
  },
  {
   "cell_type": "code",
   "execution_count": null,
   "id": "3ae085d7-1d2d-4300-ab0d-0a10b634f9b2",
   "metadata": {},
   "outputs": [],
   "source": []
  },
  {
   "cell_type": "code",
   "execution_count": null,
   "id": "2c214897-c4cb-442a-a128-50f96113844a",
   "metadata": {},
   "outputs": [],
   "source": []
  }
 ],
 "metadata": {
  "kernelspec": {
   "display_name": "Python [conda env:base] *",
   "language": "python",
   "name": "conda-base-py"
  },
  "language_info": {
   "codemirror_mode": {
    "name": "ipython",
    "version": 3
   },
   "file_extension": ".py",
   "mimetype": "text/x-python",
   "name": "python",
   "nbconvert_exporter": "python",
   "pygments_lexer": "ipython3",
   "version": "3.12.7"
  }
 },
 "nbformat": 4,
 "nbformat_minor": 5
}
